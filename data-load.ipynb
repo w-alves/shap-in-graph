{
 "cells": [
  {
   "cell_type": "code",
   "execution_count": 3,
   "id": "15ee4565-7ea1-4a2d-8edc-f0ffe27afa1e",
   "metadata": {},
   "outputs": [],
   "source": [
    "from neo4j import GraphDatabase"
   ]
  },
  {
   "cell_type": "code",
   "execution_count": 4,
   "id": "94b25a08-f2a9-4cea-b9fb-456d142d319e",
   "metadata": {},
   "outputs": [],
   "source": [
    "driver = GraphDatabase.driver(\"bolt://localhost:7687\", auth=(\"novoadmin\", \"novoadmin123\"))        "
   ]
  },
  {
   "cell_type": "code",
   "execution_count": 7,
   "id": "a95aeca1-4cfb-4a66-a36b-1bbc6f2cc3f2",
   "metadata": {},
   "outputs": [
    {
     "data": {
      "text/plain": [
       "{'_contains_updates': True, 'constraints_added': 1}"
      ]
     },
     "metadata": {},
     "output_type": "display_data"
    },
    {
     "data": {
      "text/plain": [
       "{'_contains_updates': True, 'constraints_added': 1}"
      ]
     },
     "metadata": {},
     "output_type": "display_data"
    },
    {
     "data": {
      "text/plain": [
       "{'_contains_updates': True, 'constraints_added': 1}"
      ]
     },
     "metadata": {},
     "output_type": "display_data"
    }
   ],
   "source": [
    "with driver.session(database=\"neo4j\") as session:\n",
    "    display(session.run(\"CREATE CONSTRAINT FOR (a:Article) REQUIRE a.index IS UNIQUE\").consume().counters)\n",
    "    display(session.run(\"CREATE CONSTRAINT FOR (a:Author) REQUIRE a.name IS UNIQUE\").consume().counters)\n",
    "    display(session.run(\"CREATE CONSTRAINT FOR (v:Venue) REQUIRE v.name IS UNIQUE\").consume().counters)"
   ]
  },
  {
   "cell_type": "code",
   "execution_count": 8,
   "id": "3d44c141-344d-4a0a-aa56-d006217c0b2a",
   "metadata": {},
   "outputs": [
    {
     "name": "stdout",
     "output_type": "stream",
     "text": [
      "<Record batches=520 total=51956 timeTaken=21 committedOperations=51956 failedOperations=0 failedBatches=0 retries=0 errorMessages={} batch={'total': 520, 'errors': {}, 'committed': 520, 'failed': 0} operations={'total': 51956, 'errors': {}, 'committed': 51956, 'failed': 0} wasTerminated=False failedParams={} updateStatistics={'relationshipsDeleted': 0, 'relationshipsCreated': 482439, 'nodesDeleted': 0, 'nodesCreated': 264616, 'labelsRemoved': 0, 'labelsAdded': 264616, 'propertiesSet': 450338}>\n"
     ]
    }
   ],
   "source": [
    "query = \"\"\"\n",
    "CALL apoc.periodic.iterate(\n",
    "  'UNWIND [\"dblp-ref-0.json\", \"dblp-ref-1.json\", \"dblp-ref-2.json\", \"dblp-ref-3.json\"] AS file\n",
    "   CALL apoc.load.json(\"https://github.com/mneedham/link-prediction/raw/master/data/\" + file)\n",
    "   YIELD value WITH value\n",
    "   return value',\n",
    "  'MERGE (a:Article {index:value.id})\n",
    "   SET a += apoc.map.clean(value,[\"id\",\"authors\",\"references\", \"venue\"],[0])\n",
    "   WITH a, value.authors as authors, value.references AS citations, value.venue AS venue\n",
    "   MERGE (v:Venue {name: venue})\n",
    "   MERGE (a)-[:VENUE]->(v)\n",
    "   FOREACH(author in authors | \n",
    "     MERGE (b:Author{name:author})\n",
    "     MERGE (a)-[:AUTHOR]->(b))\n",
    "   FOREACH(citation in citations | \n",
    "     MERGE (cited:Article {index:citation})\n",
    "     MERGE (a)-[:CITED]->(cited))', \n",
    "   {batchSize: 100, maxIterations: 100});\n",
    "\"\"\"\n",
    "\n",
    "with driver.session(database=\"neo4j\") as session:\n",
    "    result = session.run(query)\n",
    "    for row in result:\n",
    "        print(row)"
   ]
  },
  {
   "cell_type": "code",
   "execution_count": 10,
   "id": "3e1d0ede-4a4e-4491-b51c-1b37e1c4bc59",
   "metadata": {},
   "outputs": [
    {
     "name": "stdout",
     "output_type": "stream",
     "text": [
      "{'_contains_updates': True, 'nodes_deleted': 132357, 'relationships_deleted': 261202}\n"
     ]
    }
   ],
   "source": [
    "query = \"\"\"\n",
    "MATCH (a:Article) \n",
    "WHERE a.title IS NULL\n",
    "DETACH DELETE a\n",
    "\"\"\"\n",
    "\n",
    "with driver.session(database=\"neo4j\") as session:\n",
    "    result = session.run(query)\n",
    "    print(result.consume().counters)"
   ]
  },
  {
   "cell_type": "code",
   "execution_count": null,
   "id": "f5aa43f4-ca1e-481a-93f7-fd317295a884",
   "metadata": {},
   "outputs": [],
   "source": []
  }
 ],
 "metadata": {
  "kernelspec": {
   "display_name": "Python 3 (ipykernel)",
   "language": "python",
   "name": "python3"
  },
  "language_info": {
   "codemirror_mode": {
    "name": "ipython",
    "version": 3
   },
   "file_extension": ".py",
   "mimetype": "text/x-python",
   "name": "python",
   "nbconvert_exporter": "python",
   "pygments_lexer": "ipython3",
   "version": "3.11.7"
  }
 },
 "nbformat": 4,
 "nbformat_minor": 5
}
